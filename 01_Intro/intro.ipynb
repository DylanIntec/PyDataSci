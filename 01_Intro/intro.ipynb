{
 "metadata": {
  "language_info": {
   "codemirror_mode": {
    "name": "ipython",
    "version": 3
   },
   "file_extension": ".py",
   "mimetype": "text/x-python",
   "name": "python",
   "nbconvert_exporter": "python",
   "pygments_lexer": "ipython3",
   "version": "3.8.5-final"
  },
  "orig_nbformat": 2,
  "kernelspec": {
   "name": "python3",
   "display_name": "Python 3",
   "language": "python"
  }
 },
 "nbformat": 4,
 "nbformat_minor": 2,
 "cells": [
  {
   "source": [
    "<img src=\"../worley.jpeg\" align=\"right\" height=\"50px\">\n",
    "\n",
    "# Welcome\n",
    "Welcome to the Worley Graduate Data Science with Python course. \n",
    "\n",
    "The aim of this course is to give you the skills in Python to automate the boring tasks of your job and incorporate Data Science into your work."
   ],
   "cell_type": "markdown",
   "metadata": {}
  },
  {
   "source": [
    "# Jupyter Notebook\n",
    "The environment you are in is called a Jupyter Notebook. They are a great way to learn and explore data. Some basics of Jupyter Notebooks:\n",
    "\n",
    "* Two types of cells: Markdown (text) and Code\n",
    "* Run current cell: control enter \n",
    "* Run current cell and move to next: Shift enter "
   ],
   "cell_type": "markdown",
   "metadata": {}
  },
  {
   "source": [
    "# Objects\n",
    "In Python everything is an object.\n",
    "Common objects:\n",
    "* Integer: 10\n",
    "* Float: 10.0\n",
    "* String: 'abc' or str()\n",
    "* list (array): \\[1, 2, 3] or list(\\[1, 2, 3])\n",
    "* Dictionary: {'a': 1, 'b':2} or dict(a=1, b=2)\n",
    "* Tuple: (1, 2, 3) or tuple (\\[1, 2, 3]) or 1, 2, 3\n",
    "* Set: {1, 2, 3} or set(\\[1, 2, 3])\n",
    "\n",
    "Objects have properties and methods and can be manipulated in different ways for example you can add them together:"
   ],
   "cell_type": "markdown",
   "metadata": {}
  },
  {
   "cell_type": "code",
   "execution_count": 11,
   "metadata": {},
   "outputs": [
    {
     "output_type": "stream",
     "name": "stdout",
     "text": [
      "2\n[1, 2, 3, 1, 2, 3]\nabcdef\n"
     ]
    }
   ],
   "source": [
    "print(1 + 1)\n",
    "print([1,2,3] + [1, 2, 3])\n",
    "print('abc' + 'def')"
   ]
  },
  {
   "source": [
    "F strings are used to insert varibles into strings. They can also format numbers:"
   ],
   "cell_type": "markdown",
   "metadata": {}
  },
  {
   "cell_type": "code",
   "execution_count": 93,
   "metadata": {},
   "outputs": [
    {
     "output_type": "stream",
     "name": "stdout",
     "text": [
      "MONTY Python\nI have 10 apples\nI have 11 apples\n"
     ]
    }
   ],
   "source": [
    "a = 'Monty'\n",
    "print(f'{a.upper()} Python')\n",
    "apples = 10.6\n",
    "print(f'I have {int(apples)} apples')\n",
    "print(f'I have {apples:.0f} apples')"
   ]
  },
  {
   "source": [
    "If the object is list like it can be indexed. Python is zero based so indexing the first element using \\[0]"
   ],
   "cell_type": "markdown",
   "metadata": {}
  },
  {
   "cell_type": "code",
   "execution_count": 13,
   "metadata": {},
   "outputs": [
    {
     "output_type": "execute_result",
     "data": {
      "text/plain": [
       "1"
      ]
     },
     "metadata": {},
     "execution_count": 13
    }
   ],
   "source": [
    "a = [1, 2, 3]\n",
    "a[0]"
   ]
  },
  {
   "source": [
    "Access multiple elements by using the colon to slice the object:"
   ],
   "cell_type": "markdown",
   "metadata": {}
  },
  {
   "cell_type": "code",
   "execution_count": 18,
   "metadata": {},
   "outputs": [
    {
     "output_type": "stream",
     "name": "stdout",
     "text": [
      "foo\nfoo\nfoo\n"
     ]
    }
   ],
   "source": [
    "b = 'foo.txt'\n",
    "print(b[0:3])\n",
    "print(b[:3])\n",
    "print(b[:-4])\n"
   ]
  },
  {
   "source": [
    "If the object is mutable you can assign a new value to the index:"
   ],
   "cell_type": "markdown",
   "metadata": {}
  },
  {
   "cell_type": "code",
   "execution_count": 19,
   "metadata": {},
   "outputs": [
    {
     "output_type": "stream",
     "name": "stdout",
     "text": [
      "single assingment: [5, 2, 3]\nmultiple assingment: [10, 2, 10]\n"
     ]
    }
   ],
   "source": [
    "a[0] = 5\n",
    "print(f'single assingment: {a}')\n",
    "a[0], a[-1] = 10, 10\n",
    "print(f'multiple assingment: {a}')"
   ]
  },
  {
   "source": [
    "Writing to a file is easy:\n",
    "\n",
    "The 'w+' option allows for creating and writing to the file.\n",
    "\n",
    "Intentation in Python is very important. We. will see this later in for loops."
   ],
   "cell_type": "markdown",
   "metadata": {}
  },
  {
   "cell_type": "code",
   "execution_count": 35,
   "metadata": {},
   "outputs": [],
   "source": [
    "with open('test.txt', 'w+') as f:\n",
    "    f.write('#WorleyStrong')"
   ]
  },
  {
   "source": [
    "Reading the file is similar but using 'r':"
   ],
   "cell_type": "markdown",
   "metadata": {}
  },
  {
   "cell_type": "code",
   "execution_count": 36,
   "metadata": {},
   "outputs": [
    {
     "output_type": "stream",
     "name": "stdout",
     "text": [
      "#WorleyStrong\n"
     ]
    }
   ],
   "source": [
    "with open('test.txt', 'r') as f:\n",
    "    line = f.readline()\n",
    "print(line)"
   ]
  },
  {
   "source": [
    "Appending to the file using 'a':\n",
    "\n",
    "The '\\' is an escape character.  '\\n' is for newline ('enter')\n",
    "To read multiple lines at once into a list use writelines \n"
   ],
   "cell_type": "markdown",
   "metadata": {}
  },
  {
   "cell_type": "code",
   "execution_count": 38,
   "metadata": {},
   "outputs": [
    {
     "output_type": "stream",
     "name": "stdout",
     "text": [
      "['#WorleyStrong\\n', 'We Are Digital']\n"
     ]
    }
   ],
   "source": [
    "with open('test.txt', 'a') as f:\n",
    "    f.write('\\nWe Are Digital')\n",
    "\n",
    "with open('test.txt', 'r') as f:\n",
    "    line = f.readlines()\n",
    "print(line)"
   ]
  },
  {
   "source": [
    "## Importing a modual and For loops.\n",
    "\n",
    "Python makes extensive use of modules of pre-written code. Why write it yourself if someone already has. There are many default modules included in Python. The modual is also an object which has properties and methods. These are accesed with the '.'. To access the documentation use ??. This will tell you about the function."
   ],
   "cell_type": "markdown",
   "metadata": {}
  },
  {
   "cell_type": "code",
   "execution_count": 39,
   "metadata": {},
   "outputs": [],
   "source": [
    "import random"
   ]
  },
  {
   "cell_type": "code",
   "execution_count": 42,
   "metadata": {},
   "outputs": [
    {
     "output_type": "stream",
     "text": [
      "\u001b[0;31mSignature:\u001b[0m \u001b[0mrandom\u001b[0m\u001b[0;34m.\u001b[0m\u001b[0mrandint\u001b[0m\u001b[0;34m(\u001b[0m\u001b[0ma\u001b[0m\u001b[0;34m,\u001b[0m \u001b[0mb\u001b[0m\u001b[0;34m)\u001b[0m\u001b[0;34m\u001b[0m\u001b[0;34m\u001b[0m\u001b[0m\n",
      "\u001b[0;31mDocstring:\u001b[0m\n",
      "Return random integer in range [a, b], including both end points.\n",
      "        \n",
      "\u001b[0;31mSource:\u001b[0m   \n",
      "    \u001b[0;32mdef\u001b[0m \u001b[0mrandint\u001b[0m\u001b[0;34m(\u001b[0m\u001b[0mself\u001b[0m\u001b[0;34m,\u001b[0m \u001b[0ma\u001b[0m\u001b[0;34m,\u001b[0m \u001b[0mb\u001b[0m\u001b[0;34m)\u001b[0m\u001b[0;34m:\u001b[0m\u001b[0;34m\u001b[0m\n",
      "\u001b[0;34m\u001b[0m        \u001b[0;34m\"\"\"Return random integer in range [a, b], including both end points.\u001b[0m\n",
      "\u001b[0;34m        \"\"\"\u001b[0m\u001b[0;34m\u001b[0m\n",
      "\u001b[0;34m\u001b[0m\u001b[0;34m\u001b[0m\n",
      "\u001b[0;34m\u001b[0m        \u001b[0;32mreturn\u001b[0m \u001b[0mself\u001b[0m\u001b[0;34m.\u001b[0m\u001b[0mrandrange\u001b[0m\u001b[0;34m(\u001b[0m\u001b[0ma\u001b[0m\u001b[0;34m,\u001b[0m \u001b[0mb\u001b[0m\u001b[0;34m+\u001b[0m\u001b[0;36m1\u001b[0m\u001b[0;34m)\u001b[0m\u001b[0;34m\u001b[0m\u001b[0;34m\u001b[0m\u001b[0m\n",
      "\u001b[0;31mFile:\u001b[0m      ~/anaconda3/lib/python3.8/random.py\n",
      "\u001b[0;31mType:\u001b[0m      method\n"
     ],
     "name": "stdout"
    }
   ],
   "source": [
    "random.randint??"
   ]
  },
  {
   "cell_type": "code",
   "execution_count": 41,
   "metadata": {},
   "outputs": [
    {
     "output_type": "execute_result",
     "data": {
      "text/plain": [
       "5"
      ]
     },
     "metadata": {},
     "execution_count": 41
    }
   ],
   "source": [
    "random.randint(1, 5)"
   ]
  },
  {
   "source": [
    "For loops are used to loop over iterables such as lists. "
   ],
   "cell_type": "markdown",
   "metadata": {}
  },
  {
   "cell_type": "code",
   "execution_count": 43,
   "metadata": {},
   "outputs": [
    {
     "output_type": "stream",
     "name": "stdout",
     "text": [
      "1\n2\n3\n"
     ]
    }
   ],
   "source": [
    "for x in [1, 2, 3]:\n",
    "    print(x)"
   ]
  },
  {
   "source": [
    "To get the index of the loop use enumerate"
   ],
   "cell_type": "markdown",
   "metadata": {}
  },
  {
   "cell_type": "code",
   "execution_count": 67,
   "metadata": {},
   "outputs": [
    {
     "output_type": "stream",
     "name": "stdout",
     "text": [
      "0 digital\n1 twin\n2 data\n3 AI\n4 bot\n"
     ]
    }
   ],
   "source": [
    "buzz_words = ['digital', 'twin', 'data', 'AI', 'bot']\n",
    "\n",
    "for i, word in enumerate(buzz_words):\n",
    "    print(i,  word)"
   ]
  },
  {
   "cell_type": "code",
   "execution_count": 45,
   "metadata": {},
   "outputs": [
    {
     "output_type": "execute_result",
     "data": {
      "text/plain": [
       "[4, 6, 1, 8, 5, 3, 0, 4, 10, 1]"
      ]
     },
     "metadata": {},
     "execution_count": 45
    }
   ],
   "source": [
    "l = [0] * 10\n",
    "for i in range(10):\n",
    "    l[i] = random.randint(0, 10)\n",
    "l"
   ]
  },
  {
   "source": [
    "You could also use l.append(random.randint(0, 10)) in this case but it is faster to pre-fill the list then reassign."
   ],
   "cell_type": "markdown",
   "metadata": {}
  },
  {
   "source": [
    "A better and way faster way is using list comprehension:"
   ],
   "cell_type": "markdown",
   "metadata": {}
  },
  {
   "cell_type": "code",
   "execution_count": 48,
   "metadata": {},
   "outputs": [
    {
     "output_type": "execute_result",
     "data": {
      "text/plain": [
       "[5, 0, 0, 7, 0, 4, 4, 7, 9, 6]"
      ]
     },
     "metadata": {},
     "execution_count": 48
    }
   ],
   "source": [
    "[random.randint(0, 10) for x in range(10)]"
   ]
  },
  {
   "source": [
    "If statements"
   ],
   "cell_type": "markdown",
   "metadata": {}
  },
  {
   "cell_type": "code",
   "execution_count": 52,
   "metadata": {},
   "outputs": [
    {
     "output_type": "stream",
     "name": "stdout",
     "text": [
      "Worley is strong\n"
     ]
    }
   ],
   "source": [
    "worley = 'strong'\n",
    "\n",
    "if worley == 'strong':\n",
    "    print('Worley is strong')\n",
    "elif worley == 'digital':\n",
    "    print('Digital transition achieved')\n",
    "else:\n",
    "    print('worlev')"
   ]
  },
  {
   "source": [
    "If statement can also be used inline to assign varibles"
   ],
   "cell_type": "markdown",
   "metadata": {}
  },
  {
   "cell_type": "code",
   "execution_count": 54,
   "metadata": {},
   "outputs": [
    {
     "output_type": "execute_result",
     "data": {
      "text/plain": [
       "'Your bonus is $10000'"
      ]
     },
     "metadata": {},
     "execution_count": 54
    }
   ],
   "source": [
    "fat_profit = 'yes'\n",
    "\n",
    "bonus = 10_000 if fat_profit == 'yes' else 0\n",
    "\n",
    "f'Your bonus is ${bonus}'"
   ]
  },
  {
   "source": [
    "You can combine list comprehension and if statements:"
   ],
   "cell_type": "markdown",
   "metadata": {}
  },
  {
   "cell_type": "code",
   "execution_count": 49,
   "metadata": {},
   "outputs": [
    {
     "output_type": "execute_result",
     "data": {
      "text/plain": [
       "[0, 0.5, 4, 1.5, 16, 2.5, 36, 3.5, 64, 4.5]"
      ]
     },
     "metadata": {},
     "execution_count": 49
    }
   ],
   "source": [
    "l = list(range(10))\n",
    "[x ** 2 if x % 2 == 0 else x / 2 for x in l]"
   ]
  },
  {
   "cell_type": "code",
   "execution_count": 51,
   "metadata": {},
   "outputs": [
    {
     "output_type": "execute_result",
     "data": {
      "text/plain": [
       "[6, 7, 8, 9]"
      ]
     },
     "metadata": {},
     "execution_count": 51
    }
   ],
   "source": [
    "[x for x in range(10) if x > 5]"
   ]
  },
  {
   "source": [
    "# Functions\n",
    "\n",
    "In programming it is important to follow the DRY principal - Don't Repeat yourself. This way if you want to change anything you only need to change it in one place. Functions are a great tool to reuse code so you don't have to write it twice. "
   ],
   "cell_type": "markdown",
   "metadata": {}
  },
  {
   "cell_type": "code",
   "execution_count": 61,
   "metadata": {},
   "outputs": [],
   "source": [
    "def is_worley_strong(year):\n",
    "    assert isinstance(year, int), 'Input not of type int'\n",
    "    return 'yes' if year == 2020 or year == 2021 else 'no'"
   ]
  },
  {
   "cell_type": "code",
   "execution_count": 62,
   "metadata": {},
   "outputs": [
    {
     "output_type": "execute_result",
     "data": {
      "text/plain": [
       "'yes'"
      ]
     },
     "metadata": {},
     "execution_count": 62
    }
   ],
   "source": [
    "is_worley_strong(2020)"
   ]
  },
  {
   "cell_type": "code",
   "execution_count": 63,
   "metadata": {},
   "outputs": [
    {
     "output_type": "error",
     "ename": "AssertionError",
     "evalue": "Input not of type int",
     "traceback": [
      "\u001b[0;31m---------------------------------------------------------------------------\u001b[0m",
      "\u001b[0;31mAssertionError\u001b[0m                            Traceback (most recent call last)",
      "\u001b[0;32m<ipython-input-63-ada48af4d22d>\u001b[0m in \u001b[0;36m<module>\u001b[0;34m\u001b[0m\n\u001b[0;32m----> 1\u001b[0;31m \u001b[0mis_worley_strong\u001b[0m\u001b[0;34m(\u001b[0m\u001b[0;36m2021.1\u001b[0m\u001b[0;34m)\u001b[0m\u001b[0;34m\u001b[0m\u001b[0;34m\u001b[0m\u001b[0m\n\u001b[0m",
      "\u001b[0;32m<ipython-input-61-310ca85546fb>\u001b[0m in \u001b[0;36mis_worley_strong\u001b[0;34m(year)\u001b[0m\n\u001b[1;32m      1\u001b[0m \u001b[0;32mdef\u001b[0m \u001b[0mis_worley_strong\u001b[0m\u001b[0;34m(\u001b[0m\u001b[0myear\u001b[0m\u001b[0;34m)\u001b[0m\u001b[0;34m:\u001b[0m\u001b[0;34m\u001b[0m\u001b[0;34m\u001b[0m\u001b[0m\n\u001b[0;32m----> 2\u001b[0;31m     \u001b[0;32massert\u001b[0m \u001b[0misinstance\u001b[0m\u001b[0;34m(\u001b[0m\u001b[0myear\u001b[0m\u001b[0;34m,\u001b[0m \u001b[0mint\u001b[0m\u001b[0;34m)\u001b[0m\u001b[0;34m,\u001b[0m \u001b[0;34m'Input not of type int'\u001b[0m\u001b[0;34m\u001b[0m\u001b[0;34m\u001b[0m\u001b[0m\n\u001b[0m\u001b[1;32m      3\u001b[0m     \u001b[0;32mreturn\u001b[0m \u001b[0;34m'yes'\u001b[0m \u001b[0;32mif\u001b[0m \u001b[0myear\u001b[0m \u001b[0;34m==\u001b[0m \u001b[0;36m2020\u001b[0m \u001b[0;32mor\u001b[0m \u001b[0myear\u001b[0m \u001b[0;34m==\u001b[0m \u001b[0;36m2021\u001b[0m \u001b[0;32melse\u001b[0m \u001b[0;34m'no'\u001b[0m\u001b[0;34m\u001b[0m\u001b[0;34m\u001b[0m\u001b[0m\n",
      "\u001b[0;31mAssertionError\u001b[0m: Input not of type int"
     ]
    }
   ],
   "source": [
    "is_worley_strong(2021.1)"
   ]
  },
  {
   "cell_type": "code",
   "execution_count": 64,
   "metadata": {},
   "outputs": [
    {
     "output_type": "stream",
     "name": "stdout",
     "text": [
      "no\nno\nyes\n"
     ]
    }
   ],
   "source": [
    "for x in range(2018, 2021):\n",
    "    print(is_worley_strong(x))"
   ]
  },
  {
   "source": [
    "# While loop\n",
    "\n",
    "Will continue while true"
   ],
   "cell_type": "markdown",
   "metadata": {}
  },
  {
   "cell_type": "code",
   "execution_count": 65,
   "metadata": {},
   "outputs": [
    {
     "output_type": "execute_result",
     "data": {
      "text/plain": [
       "5"
      ]
     },
     "metadata": {},
     "execution_count": 65
    }
   ],
   "source": [
    "x = 0\n",
    "while x < 5:\n",
    "    x+=1\n",
    "x"
   ]
  },
  {
   "source": [
    "# Error catching\n",
    "\n",
    "Most of the time your data will have errors in it that may break your code. These can be caught using a try except statement.\n"
   ],
   "cell_type": "markdown",
   "metadata": {}
  },
  {
   "cell_type": "code",
   "execution_count": 89,
   "metadata": {},
   "outputs": [
    {
     "output_type": "execute_result",
     "data": {
      "text/plain": [
       "[5, 15, -20, -10, 10, 10, 5]"
      ]
     },
     "metadata": {},
     "execution_count": 89
    }
   ],
   "source": [
    "dividends = [10, 15, 30, 10, 'xxx', 10, 20, 25]\n",
    "\n",
    "growth = [0] * (len(dividends) - 1)\n",
    "\n",
    "for x in range(len(dividends) - 1):\n",
    "    try:\n",
    "        growth[x] = dividends[x + 1] - dividends[x]\n",
    "    except TypeError:\n",
    "        if isinstance(dividends[x], str):\n",
    "            growth[x] = dividends[x + 1] - 0\n",
    "        else:\n",
    "            growth[x] = 0 - dividends[x]\n",
    "growth"
   ]
  },
  {
   "source": [
    "This catches the error in the processing but it might be smarter to clean the data first:"
   ],
   "cell_type": "markdown",
   "metadata": {}
  },
  {
   "cell_type": "code",
   "execution_count": 90,
   "metadata": {},
   "outputs": [
    {
     "output_type": "execute_result",
     "data": {
      "text/plain": [
       "[5, 15, -20, -10, 10, 10, 5]"
      ]
     },
     "metadata": {},
     "execution_count": 90
    }
   ],
   "source": [
    "dividends_clean = [x if not isinstance(x, str) else 0 for x in dividends]\n",
    "for x in range(len(dividends) - 1):\n",
    "    growth[x] = dividends_clean[x + 1] - dividends_clean[x]\n",
    "growth"
   ]
  },
  {
   "source": [
    "# Debugging\n",
    "\n",
    "You will never get it right the first time. This is where debugging is essential. Old school debugging involves printing out the varibles at points where your code goes wrong to investigate. A more modern way is to use the breakpoint() statement. This puts you into debugging mode so you can look at all the varible and step though the code line by line. \n",
    "\n",
    "* n - next line \n",
    "* u - until at least this line (good for for loops)\n",
    "* s - for stepping into a function\n",
    "* q for quit\n"
   ],
   "cell_type": "markdown",
   "metadata": {}
  },
  {
   "cell_type": "code",
   "execution_count": null,
   "metadata": {},
   "outputs": [],
   "source": []
  }
 ]
}